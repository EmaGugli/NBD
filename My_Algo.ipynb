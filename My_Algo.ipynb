{
  "nbformat": 4,
  "nbformat_minor": 0,
  "metadata": {
    "colab": {
      "name": "My Algo.ipynb",
      "provenance": [],
      "authorship_tag": "ABX9TyMdRQ7KHnJCUWAiLbNHENHE",
      "include_colab_link": true
    },
    "kernelspec": {
      "name": "python3",
      "display_name": "Python 3"
    }
  },
  "cells": [
    {
      "cell_type": "markdown",
      "metadata": {
        "id": "view-in-github",
        "colab_type": "text"
      },
      "source": [
        "<a href=\"https://colab.research.google.com/github/Phoenix1696/NBD/blob/master/My_Algo.ipynb\" target=\"_parent\"><img src=\"https://colab.research.google.com/assets/colab-badge.svg\" alt=\"Open In Colab\"/></a>"
      ]
    },
    {
      "cell_type": "markdown",
      "metadata": {
        "id": "X6yDB6-T2BIb",
        "colab_type": "text"
      },
      "source": [
        "Imports"
      ]
    },
    {
      "cell_type": "code",
      "metadata": {
        "id": "oMRUN7m72HFd",
        "colab_type": "code",
        "colab": {}
      },
      "source": [
        "import math\n",
        "import random\n",
        "from random import sample, random \n",
        "from collections import defaultdict\n",
        "import numpy as np\n",
        "import matplotlib.pylab as plt"
      ],
      "execution_count": 0,
      "outputs": []
    },
    {
      "cell_type": "markdown",
      "metadata": {
        "id": "a_1jKGOg2KEn",
        "colab_type": "text"
      },
      "source": [
        "Constants"
      ]
    },
    {
      "cell_type": "code",
      "metadata": {
        "id": "2h8p7rzx2Ji4",
        "colab_type": "code",
        "colab": {}
      },
      "source": [
        "n = 100000 \n",
        "Nse= 20\n",
        "T0 = 1 \n",
        "Ymed = 10 \n",
        "q  = 3/5 \n",
        "ET = T0 + (1-q)*Ymed \n",
        "alfa = 1/2"
      ],
      "execution_count": 0,
      "outputs": []
    },
    {
      "cell_type": "markdown",
      "metadata": {
        "id": "k8KjrOIQ2ReV",
        "colab_type": "text"
      },
      "source": [
        "Generating Random Numbers "
      ]
    },
    {
      "cell_type": "code",
      "metadata": {
        "id": "sCPeNfx92OQs",
        "colab_type": "code",
        "colab": {}
      },
      "source": [
        "R1 = [random() for _ in range(n)]\n",
        "R2 = [random() for _ in range(n)]\n",
        "R3 = [random() for _ in range(n)]"
      ],
      "execution_count": 0,
      "outputs": []
    },
    {
      "cell_type": "markdown",
      "metadata": {
        "id": "aVjhimiI2Vz3",
        "colab_type": "text"
      },
      "source": [
        "Generating Inter-Arrival Time"
      ]
    },
    {
      "cell_type": "code",
      "metadata": {
        "id": "9Fsr5Iak2bel",
        "colab_type": "code",
        "colab": {}
      },
      "source": [
        "Tv = []\n",
        "for i in range(n):\n",
        "    if R1[i] <= q :\n",
        "        Tv.append(T0)\n",
        "    else:\n",
        "        Tv.append(round(T0-Ymed*math.log(R2[i])))"
      ],
      "execution_count": 0,
      "outputs": []
    },
    {
      "cell_type": "markdown",
      "metadata": {
        "id": "pNzJwufP2ed2",
        "colab_type": "text"
      },
      "source": [
        "JSQ"
      ]
    },
    {
      "cell_type": "code",
      "metadata": {
        "id": "O9Yx7mF62d9S",
        "colab_type": "code",
        "colab": {}
      },
      "source": [
        "def JSQ(queueLengthsJSQ):\n",
        "    \"\"\" select the server with the shortest queue \"\"\"\n",
        "    shortesQueues = [i+1 for i, x in enumerate(queueLengthsJSQ) if x == min(queueLengthsJSQ)]\n",
        "    return sample(shortesQueues, 1)[0]"
      ],
      "execution_count": 0,
      "outputs": []
    },
    {
      "cell_type": "markdown",
      "metadata": {
        "id": "IT1_G29i21uM",
        "colab_type": "text"
      },
      "source": [
        "My Algo"
      ]
    },
    {
      "cell_type": "code",
      "metadata": {
        "id": "6ZFy7cE_2tMm",
        "colab_type": "code",
        "colab": {}
      },
      "source": [
        "def my_algo(situation):\n",
        "  ''' \n",
        "  Task: Assume the load balancer knows the required service time for each arriving task \n",
        "        and eìinvent a new scheduling algorithm to assign task to servers\n",
        "  Us: We will keep a matrix(dictionary here) in the dispatcher. In this dictionary \n",
        "      the keys are the servers, and for each incoming task, we will append the \n",
        "      service time to a random server. When all the servers are busy we will \n",
        "      choose the one with the least total time to serve. In addition our dictionary \n",
        "      will be updated with each unit time, since each unit time, some part of \n",
        "      the job is done.  \n",
        "  '''\n",
        "  return min(situation, key=situation.get)"
      ],
      "execution_count": 0,
      "outputs": []
    },
    {
      "cell_type": "markdown",
      "metadata": {
        "id": "a6OGCU1k3i91",
        "colab_type": "text"
      },
      "source": [
        "Simulation"
      ]
    },
    {
      "cell_type": "code",
      "metadata": {
        "id": "cE1TWpU03jxn",
        "colab_type": "code",
        "colab": {}
      },
      "source": [
        "delayJSQ = defaultdict() \n",
        "delayMyAlgo = defaultdict()\n",
        "for rho in np.arange(0.8, 1, 0.02): \n",
        "    rho = round(rho,2) \n",
        "    EX = rho*Nse*ET \n",
        "    beta = EX/math.gamma(1+(1/alfa)) \n",
        "    Xv = []\n",
        "    for i in range(n):\n",
        "      Xv.append(max(1,min(100*EX,round(beta*(-math.log(R3[i]))**(1/alfa)))))\n",
        "    wtMyAlgo = 0\n",
        "    wtJSQ = 0\n",
        "    queueMyAlgo = defaultdict(int)\n",
        "    queueJSQ = defaultdict(int)\n",
        "    for i in range(1,21):\n",
        "      queueMyAlgo[i] = 0\n",
        "      queueJSQ[i] = 0\n",
        "    queueLengthsMyAlgo = [0]*20 \n",
        "    queueLengthsJSQ = [0]*20\n",
        "    idTasksForQueueMyAlgo = defaultdict(int) \n",
        "    idTasksForQueueJSQ = defaultdict(int)\n",
        "    for i in range(1,21):\n",
        "      idTasksForQueueMyAlgo[i] = []\n",
        "      idTasksForQueueJSQ[i] = []\n",
        "    for jc in range(n):\n",
        "      for i in range(1,Nse+1):\n",
        "        queueMyAlgo[i] = queueMyAlgo[i] -Tv[jc]\n",
        "        queueJSQ[i] = queueJSQ[i] -Tv[jc] \n",
        "\n",
        "        if len(idTasksForQueueMyAlgo[i]) > 0: \n",
        "          task = idTasksForQueueMyAlgo[i][0] \n",
        "          time_elapsed = Tv[jc]\n",
        "          while (time_elapsed - Xv[task] > 0): \n",
        "            idTasksForQueueMyAlgo[i] = idTasksForQueueMyAlgo[i][1:] \n",
        "            queueLengthsMyAlgo[i-1] = queueLengthsMyAlgo[i-1] -  1 \n",
        "            time_elapsed = time_elapsed - Xv[task] \n",
        "            task = idTasksForQueueMyAlgo[0] \n",
        "            \n",
        "        if len(idTasksForQueueJSQ[i]) > 0:\n",
        "          task = idTasksForQueueJSQ[i][0] \n",
        "          time_elapsed = Tv[jc]\n",
        "          while (time_elapsed - Xv[task] > 0): \n",
        "            idTasksForQueueJSQ[i] = idTasksForQueueJSQ[i][1:] \n",
        "            queueLengthsJSQ[i-1] = queueLengthsJSQ[i-1] -  1\n",
        "            time_elapsed = time_elapsed - Xv[task] \n",
        "            task = idTasksForQueueJSQ[0] \n",
        "\n",
        "        if (queueMyAlgo[i] < 0):\n",
        "          queueMyAlgo[i] = 0\n",
        "          idTasksForQueueMyAlgo[i] = []\n",
        "          queueLengthsMyAlgo[i-1] = 0\n",
        "\n",
        "        if (queueJSQ[i] < 0):\n",
        "          queueJSQ[i] = 0\n",
        "          idTasksForQueueJSQ[i] = []\n",
        "          queueLengthsJSQ[i-1] = 0\n",
        "\n",
        "      snJSQ = JSQ(queueLengthsJSQ) \n",
        "      queueLengthsJSQ[snJSQ-1] += 1\n",
        "      idTasksForQueueJSQ[snJSQ].append(jc)\n",
        "      queueJSQ[snJSQ] += Xv[jc]\n",
        "      wtJSQ += queueJSQ[snJSQ]\n",
        "\n",
        "      snMyAlgo = my_algo(queueMyAlgo) \n",
        "      queueLengthsMyAlgo[snMyAlgo-1] += 1\n",
        "      idTasksForQueueMyAlgo[snMyAlgo].append(jc)\n",
        "      queueMyAlgo[snMyAlgo] += Xv[jc]\n",
        "      wtMyAlgo += queueMyAlgo[snMyAlgo]\n",
        "      \n",
        "    delayJSQ[rho] = wtJSQ/jc\n",
        "    delayMyAlgo[rho] = wtMyAlgo/jc"
      ],
      "execution_count": 0,
      "outputs": []
    },
    {
      "cell_type": "code",
      "metadata": {
        "id": "k6ESANFc5uOF",
        "colab_type": "code",
        "colab": {
          "base_uri": "https://localhost:8080/",
          "height": 278
        },
        "outputId": "fb730ce0-4888-48fa-83d3-73222bcdaae8"
      },
      "source": [
        "listJSQ = sorted(delayJSQ.items()) # sorted by key, return a list of tuples\n",
        "xJSQ, yJSQ = zip(*listJSQ) # unpack a list of pairs into two tuples\n",
        "plt.plot(xJSQ, yJSQ, label = \"JSQ\")\n",
        "\n",
        "listMyAlgo = sorted(delayMyAlgo.items()) # sorted by key, return a list of tuples\n",
        "xMyAlgo, yMyAlgo = zip(*listMyAlgo) # unpack a list of pairs into two tuples\n",
        "plt.plot(xMyAlgo, yMyAlgo, label = \"My Algorithm\")\n",
        "plt.xlabel(\"rho\")\n",
        "plt.ylabel(\"mean system time\")\n",
        "plt.legend()\n",
        "plt.show()"
      ],
      "execution_count": 8,
      "outputs": [
        {
          "output_type": "display_data",
          "data": {
            "image/png": "[encoded data removed]",
            "text/plain": [
              "<Figure size 432x288 with 1 Axes>"
            ]
          },
          "metadata": {
            "tags": [],
            "needs_background": "light"
          }
        }
      ]
    }
  ]
}